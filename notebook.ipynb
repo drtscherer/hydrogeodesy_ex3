{
 "cells": [
  {
   "cell_type": "markdown",
   "metadata": {},
   "source": [
    "# Hydrogeodesy: Monitoring surface waters from space\n",
    "### Exercise 3: Comparison of different inland altimetry products\n",
    "\n",
    "Daniel Scherer, DGFI-TUM  \n",
    "Wintersemester 2022/23\n",
    "\n",
    "**Contents**\n",
    "1. Surface Area Estimation\n",
    "2. Volume Variation with fixed area\n",
    "3. Volume Variation with variable area\n",
    "\n",
    "**Study Area: Lake Stamford (Texas, USA)**  \n",
    "![AOI](aoi.jpg)  \n",
    "*Figure 1: Satellite derived bathymetry of Lake Stamford*  \n",
    "*[www.dahiti.dgfi.tum.de/10274]*  \n",
    "\n",
    "Area Variation:        3 - 21km²  \n",
    "Water Level Variation: 426 - 431m\n",
    "\n",
    "Following data is used in this exercise:  \n",
    "- Landsat 8 Scene LC08_L2SP_029037_20200613_20200823_02_T1\n",
    "- Water level and\n",
    "- Surface area time series from DAHITI [www.dahiti.dgfi.tum.de/10274]\n",
    "\n"
   ]
  },
  {
   "cell_type": "markdown",
   "metadata": {},
   "source": [
    "First load some required modules:"
   ]
  },
  {
   "cell_type": "code",
   "execution_count": null,
   "metadata": {},
   "outputs": [],
   "source": [
    "from PIL import Image # Package for interacting with Image data\n",
    "import numpy as np # fundamental package for scientific computing with Python\n",
    "import matplotlib.pyplot as plt # standard plotting library\n",
    "import scipy # collection of mathematical algorithms and convenience functions built on the numpy\n",
    "from scipy import ndimage\n",
    "import netCDF4 as nc # for reading netcdf data\n",
    "import pandas as pd # For easy data analysis and manipulation"
   ]
  },
  {
   "cell_type": "markdown",
   "metadata": {},
   "source": [
    "#### 1. Surface area estimation\n",
    "\n",
    "![SWIR1](SWIR1_quicklook.jpg)\n",
    "\n",
    "*Short Wave Infrared 1 band (SWIR1) quicklook**\n",
    "\n",
    "![GREEN](GREEN_quicklook.jpg)\n",
    "\n",
    "*Green band (GREEN) quicklook*\n",
    "\n",
    "Load the required image bands:"
   ]
  },
  {
   "cell_type": "code",
   "execution_count": null,
   "metadata": {},
   "outputs": [],
   "source": [
    "# We convert the images to numpy arrays to be able to apply some calculations in the following\n",
    "green = np.array(Image.open('Data/GREEN.tif')).astype(float)\n",
    "swir1 = np.array(Image.open('Data/SWIR1.tif')).astype(float)"
   ]
  },
  {
   "cell_type": "markdown",
   "metadata": {},
   "source": [
    "Calculate the Modified Normalized Difference Water Index (MNDWI):\n",
    "$$ MNDWI = {GREEN - SWIR_1 \\over GREEN + SWIR_1} $$\n",
    "\n",
    "[*Hanqiu Xu (2006)* **Modification of normalised difference water index (NDWI) to enhance open water features in remotely sensed imagery**, International \n",
    "Journal of Remote Sensing, 27:14, 3025-3033, doi: 10.1080/01431160600589179]"
   ]
  },
  {
   "cell_type": "code",
   "execution_count": null,
   "metadata": {},
   "outputs": [],
   "source": [
    "mndwi = ..."
   ]
  },
  {
   "cell_type": "markdown",
   "metadata": {},
   "source": [
    "The MNDWI helps seperating water and land, so you should see two peaks in the following histogram. One for each type of landcover."
   ]
  },
  {
   "cell_type": "code",
   "execution_count": null,
   "metadata": {},
   "outputs": [],
   "source": [
    "plt.hist(mndwi.flatten(),bins=np.linspace(-0.4,0.4,128))\n",
    "plt.xlabel(\"Pixel Value\")\n",
    "plt.ylabel(\"Frequency\")\n",
    "plt.show()"
   ]
  },
  {
   "cell_type": "markdown",
   "metadata": {},
   "source": [
    "Based on the histogram, choose an appropriate threshold value (th) to seperate water from land pixels:"
   ]
  },
  {
   "cell_type": "code",
   "execution_count": null,
   "metadata": {},
   "outputs": [],
   "source": [
    "th = ...\n",
    "water = mndwi > th # This returns us a boolean array where land pixels are False and water pixels are True\n",
    "Image.fromarray(water)"
   ]
  },
  {
   "cell_type": "markdown",
   "metadata": {},
   "source": [
    "Looking at the Image you should be able to recognize Lake Stamford.  \n",
    "However, there are many small water bodies surrounding it, which we are not interested in.\n",
    "\n",
    "Therefore we apply a labeling algorithm to isolate our target:"
   ]
  },
  {
   "cell_type": "code",
   "execution_count": null,
   "metadata": {},
   "outputs": [],
   "source": [
    "labels = ndimage.label(water)[0]\n",
    "img = plt.imshow(labels,cmap=\"turbo\")\n",
    "plt.xlabel(\"xindex\")\n",
    "plt.ylabel('yindex')\n",
    "plt.locator_params(nbins=20)\n",
    "plt.grid()\n",
    "plt.colorbar(img,label='Labels')\n",
    "plt.show()"
   ]
  },
  {
   "cell_type": "markdown",
   "metadata": {},
   "source": [
    "Based on the map of labels above, choose an appropiate pixel to sample the label of interest (within Lake Stamford)"
   ]
  },
  {
   "cell_type": "code",
   "execution_count": null,
   "metadata": {},
   "outputs": [],
   "source": [
    "xindex = ...\n",
    "yindex = ...\n",
    "label_of_interest = labels[yindex,xindex] #Note, in the numpy array the x and y axes are switched around\n",
    "print(f'You choosed label {label_of_interest}. Below you should see only Lake Stamford. Otherwise, try other coordinates.')\n",
    "lake = labels == label_of_interest\n",
    "Image.fromarray(lake)"
   ]
  },
  {
   "cell_type": "markdown",
   "metadata": {},
   "source": [
    "**Calculate the static area of the lake.**  \n",
    "(The ground resolution of Landsat 8 is approx. 30m.)"
   ]
  },
  {
   "cell_type": "code",
   "execution_count": null,
   "metadata": {},
   "outputs": [],
   "source": [
    "# np.sum(lake) gives you the number of true values in a boolean array. In this case, the number of water pixels.\n",
    "area = ..."
   ]
  },
  {
   "cell_type": "markdown",
   "metadata": {},
   "source": [
    "#### 2. Volume variations with fixed area\n",
    "\n",
    "1. Load the water level time series data:"
   ]
  },
  {
   "cell_type": "code",
   "execution_count": null,
   "metadata": {},
   "outputs": [],
   "source": [
    "dset = nc.Dataset('Data/10274_water_level_altimetry.nc')\n",
    "# This is our series\n",
    "water_level = pd.Series(data=dset['water_level'][:],index=pd.DatetimeIndex(dset['date'][:]))\n",
    "dset.close()"
   ]
  },
  {
   "cell_type": "markdown",
   "metadata": {},
   "source": [
    "Calculate the volume differences using the static area estimated above and the water level time series:\n",
    "\n",
    "$$ \\Delta V(t_{i-1},t_i) = (h_i - h_{i-1}) \\cdot A $$"
   ]
  },
  {
   "cell_type": "code",
   "execution_count": null,
   "metadata": {},
   "outputs": [],
   "source": [
    "# You can use series.diff() to get the diffences between i and i-1\n",
    "volume_differences = ...\n",
    "volume_differences.plot(ylabel='m3')"
   ]
  },
  {
   "cell_type": "markdown",
   "metadata": {},
   "source": [
    "That is not so useful as it only shows the difference to the last time step.\n",
    "\n",
    "Use the cumulative sum to get a volume variation time series."
   ]
  },
  {
   "cell_type": "code",
   "execution_count": null,
   "metadata": {},
   "outputs": [],
   "source": [
    "# Use series.cumsum()\n",
    "volume_variation = ...\n",
    "volume_variation.plot(ylabel='m3')"
   ]
  },
  {
   "cell_type": "markdown",
   "metadata": {},
   "source": [
    "Instead of a single Landsat Image, we can also use the average area from a long-term water occurrence mask as shown below:\n",
    "\n",
    "![OCC](occ_mask.jpg)\n",
    "*Long-term water occurence mask [dahiti.dgfi.tum.de/10274/water-occurrence-mask]*\n",
    "\n",
    "Choose an appropiate occurrence value representing the average surface area:"
   ]
  },
  {
   "cell_type": "code",
   "execution_count": null,
   "metadata": {},
   "outputs": [],
   "source": [
    "occ_th = ..."
   ]
  },
  {
   "cell_type": "markdown",
   "metadata": {},
   "source": [
    "We calculate a volume time series based on the occurrence mask and plot both results. Discuss the results."
   ]
  },
  {
   "cell_type": "code",
   "execution_count": null,
   "metadata": {},
   "outputs": [],
   "source": [
    "occ = np.array(Image.open('Data/10274_water_occurrence_mask.tif'))\n",
    "# The pixel size is approx. 10x10m\n",
    "occ_volume_variation = (((occ > occ_th).flatten().sum() * 10 * 10) * water_level.diff()).cumsum()\n",
    "fig1, ax1 = plt.subplots()\n",
    "occ_volume_variation.plot(ax=ax1,label=f'By Occurrence (occ. th.={occ_th})')\n",
    "volume_variation.plot(ax=ax1,label=f'Single Image (mndwi th.={th})')\n",
    "ax1.legend()\n",
    "ax1.set_ylabel(\"Volume m3\")"
   ]
  },
  {
   "cell_type": "markdown",
   "metadata": {},
   "source": [
    "#### 3. Volume variations with variable area\n",
    "\n",
    "A fixed area is not realistic, so now we will use a variable area derived from multiple Landsat Images.\n",
    "\n",
    "Load the surface area time series"
   ]
  },
  {
   "cell_type": "code",
   "execution_count": null,
   "metadata": {},
   "outputs": [],
   "source": [
    "dset = nc.Dataset('Data/10274_surface_area.nc')\n",
    "surface_area = pd.Series(data=dset['surface_area'][:],index=pd.DatetimeIndex(dset['date'][:]))\n",
    "dset.close()"
   ]
  },
  {
   "cell_type": "markdown",
   "metadata": {},
   "source": [
    "One challenge is that surface area and water level are not measured synchronously.  \n",
    "The satellites carrying the different sensors pass the lake only rarely on the same date coincidently.\n",
    "\n",
    "Use the following code to find and plot the synchronous measurements:"
   ]
  },
  {
   "cell_type": "code",
   "execution_count": null,
   "metadata": {},
   "outputs": [],
   "source": [
    "sync_idx = (surface_area.sort_values().index.intersection(water_level.index))\n",
    "fig2, ax2 = plt.subplots()\n",
    "ax2.plot(surface_area.loc[sync_idx],water_level.loc[sync_idx],label='synchronous')\n",
    "ax2.set_xlabel(\"Area [km2]\")\n",
    "ax2.set_ylabel(\"Water Level [m]\")"
   ]
  },
  {
   "cell_type": "markdown",
   "metadata": {},
   "source": [
    "These are to few data points to build a meaningful volume time series.   \n",
    "One possible solution is to simply interpolate the surface area data.  \n",
    "Use the following code to get matching data and add the results to the plot:"
   ]
  },
  {
   "cell_type": "code",
   "execution_count": null,
   "metadata": {},
   "outputs": [],
   "source": [
    "interp_area = surface_area.reindex(water_level.sort_index().index.join(surface_area.index,how='outer')).interpolate(limit_area='inside').reindex(water_level.index)\n",
    "ax2.scatter(interp_area,water_level,s=2,color='orange',label='interpolated')\n",
    "ax2.legend()\n",
    "fig2"
   ]
  },
  {
   "cell_type": "markdown",
   "metadata": {},
   "source": [
    "Discuss the quality of the interpolated data\n",
    "\n",
    "Now, calculate the volume change between two observations with changing height and area using the pyramid formula:\n",
    "\n",
    "$$\n",
    "\\Delta V\\left(t_{i-1}, t_i\\right)=\\frac{1}{3}\\left(h_i-h_{i-1}\\right) \\cdot\\left(A_i+A_{i-1}+\\sqrt{A_i \\cdot A_{i-1}}\\right)\n",
    "$$\n",
    "\n",
    "***Note that the input area is in km2!***  \n",
    "So let us first covert it to m2"
   ]
  },
  {
   "cell_type": "code",
   "execution_count": null,
   "metadata": {},
   "outputs": [],
   "source": [
    "interp_area = interp_area * ..."
   ]
  },
  {
   "cell_type": "code",
   "execution_count": null,
   "metadata": {},
   "outputs": [],
   "source": [
    "# Remember the series.diff() function from above\n",
    "# There is no similar function for sums or products but you can use\n",
    "# series.rolling(2).sum()\n",
    "# and\n",
    "# series.rolling(2).apply(lambda x: x.product())\n",
    "# and\n",
    "# series.pow(1/2) for the square_root\n",
    "\n",
    "variable_volume_differences = ...\n",
    "\n",
    "variable_volume = variable_volume_differences.cumsum()\n",
    "variable_volume.plot(ax=ax1,label='Interpolated Area')\n",
    "ax1.legend()\n",
    "fig1"
   ]
  },
  {
   "cell_type": "markdown",
   "metadata": {},
   "source": [
    "Using a hypsometric function is a more sophisticated way to relate surface area and water level measurements.  \n",
    "Below you can see the hypsometric function of Lake Stamford based on a function by Strahler (blue):\n",
    "$$\n",
    "y=\\left[\\frac{(0.01-x)}{(0.01-25.912)} \\cdot \\frac{(41.360-25.912)}{(41.360-x)}\\right]^{0.093} \\cdot 37.496+397.164\n",
    "$$\n",
    "In this case we derive the water level from the surface area.\n",
    "\n",
    "![hypso](hypso.jpg)  \n",
    "\n",
    "The hypsometric water levels derived using above equation are already provided similar to the altimetric water levels we used before: \n"
   ]
  },
  {
   "cell_type": "code",
   "execution_count": null,
   "metadata": {},
   "outputs": [],
   "source": [
    "dset = nc.Dataset('Data/10274_water_level_hypsometry.nc')\n",
    "hypso_level = pd.Series(data=dset['water_level'][:],index=pd.DatetimeIndex(dset['date'][:]))\n",
    "dset.close()"
   ]
  },
  {
   "cell_type": "markdown",
   "metadata": {},
   "source": [
    "Calculate the volume change using the pyramid function from the non-interpolated surface area and the hypsomtric water level time series:"
   ]
  },
  {
   "cell_type": "code",
   "execution_count": null,
   "metadata": {},
   "outputs": [],
   "source": [
    "_hypso_level = hypso_level[hypso_level.index >= variable_volume.index.min()]\n",
    "_surface_area = surface_area[surface_area.index >= variable_volume.index.min()] * 1e6\n",
    "hypso_volume = ((1/3) * _hypso_level.diff() * (_surface_area.rolling(2).sum() + (_surface_area.rolling(2).apply(lambda x: x.product())).pow(1/2))).cumsum()\n",
    "hypso_volume.plot(ax=ax1,label='Hypsometric Water Level')\n",
    "ax1.legend()\n",
    "fig1"
   ]
  },
  {
   "cell_type": "markdown",
   "metadata": {},
   "source": [
    "Additionally, load the volume variation time series which uses a pixel accumulation\n",
    "instead of the pyramid function:"
   ]
  },
  {
   "cell_type": "code",
   "execution_count": null,
   "metadata": {},
   "outputs": [],
   "source": [
    "dset = nc.Dataset('Data/10274_volume_variation.nc')\n",
    "dahiti_volume = pd.Series(data=dset['volume_variation'][:],index=pd.DatetimeIndex(dset['date'][:]))\n",
    "dset.close()\n",
    "dahiti_volume = dahiti_volume * 1e9\n",
    "dahiti_volume = dahiti_volume[dahiti_volume.index >= variable_volume.index.min()]\n",
    "dahiti_volume = dahiti_volume - (dahiti_volume.iloc[0] - variable_volume.iloc[0])\n",
    "dahiti_volume.plot(ax=ax1,label=\"DAHITI\")\n",
    "ax1.legend()\n",
    "fig1"
   ]
  },
  {
   "cell_type": "markdown",
   "metadata": {},
   "source": [
    "There is also in-situ data available for validation:"
   ]
  },
  {
   "cell_type": "code",
   "execution_count": null,
   "metadata": {},
   "outputs": [],
   "source": [
    "insitu = pd.read_csv('Data/insitu_volume.csv',header=None,sep=\";\")\n",
    "ts = pd.Series(insitu.loc[:,1] * 1e9)\n",
    "ts.index = pd.DatetimeIndex(insitu.loc[:,0]).rename(\"Date\")\n",
    "insitu = ts[ts.index >= variable_volume.index.min()]\n",
    "insitu = insitu - (insitu.iloc[0] - variable_volume.iloc[0])\n",
    "insitu.plot(ax=ax1,label=\"In-Situ\")\n",
    "ax1.legend()\n",
    "fig1"
   ]
  }
 ],
 "metadata": {
  "kernelspec": {
   "display_name": "Python 3.11.0 64-bit",
   "language": "python",
   "name": "python3"
  },
  "language_info": {
   "codemirror_mode": {
    "name": "ipython",
    "version": 3
   },
   "file_extension": ".py",
   "mimetype": "text/x-python",
   "name": "python",
   "nbconvert_exporter": "python",
   "pygments_lexer": "ipython3",
   "version": "3.11.0"
  },
  "orig_nbformat": 4,
  "vscode": {
   "interpreter": {
    "hash": "aee8b7b246df8f9039afb4144a1f6fd8d2ca17a180786b69acc140d282b71a49"
   }
  }
 },
 "nbformat": 4,
 "nbformat_minor": 2
}
